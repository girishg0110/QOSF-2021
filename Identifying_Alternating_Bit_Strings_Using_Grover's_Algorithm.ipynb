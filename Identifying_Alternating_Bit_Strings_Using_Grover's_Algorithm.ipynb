{
  "nbformat": 4,
  "nbformat_minor": 0,
  "metadata": {
    "colab": {
      "name": "Identifying Alternating Bit-Strings Using Grover's Algorithm.ipynb",
      "provenance": []
    },
    "kernelspec": {
      "name": "python3",
      "display_name": "Python 3"
    },
    "language_info": {
      "name": "python"
    }
  },
  "cells": [
    {
      "cell_type": "markdown",
      "metadata": {
        "id": "obksp0xOeClF"
      },
      "source": [
        "# Identifying Alternating Bit-Strings Using Grover's Algorithm ⚗️ "
      ]
    },
    {
      "cell_type": "markdown",
      "metadata": {
        "id": "rpJ_yJAZebZf"
      },
      "source": [
        "## Step 1: Preprocessing 🤖 \n",
        "Here, we take in the list of values and generate...\n",
        "* a list of bitstring indices\n",
        "* bitstring representations for each value in the list\n",
        "* and a list of True/False values that indicate whether each value represents an alternating bitstring."
      ]
    },
    {
      "cell_type": "code",
      "metadata": {
        "id": "rUEaH-kIdjvi"
      },
      "source": [
        "import numpy as np\n",
        "def to_bitstring(n, max_len):\n",
        "  s = \"\"\n",
        "  while (len(s) < max_len):\n",
        "    s += str(n%2)\n",
        "    n //= 2\n",
        "  return s[::-1]"
      ],
      "execution_count": 45,
      "outputs": []
    },
    {
      "cell_type": "code",
      "metadata": {
        "id": "HviRgXZgdrxi"
      },
      "source": [
        "def check_alternating(s):\n",
        "  if (len(s) == 1): \n",
        "    return True\n",
        "  for i in range(len(s) - 1):\n",
        "    if (s[i] == s[i+1]):\n",
        "      return False\n",
        "  return True"
      ],
      "execution_count": 46,
      "outputs": []
    },
    {
      "cell_type": "markdown",
      "metadata": {
        "id": "lBLtmZLofqK_"
      },
      "source": [
        "## Step 2: Creating a Quantum Solution 👁️ \n",
        "Here, we instantiate general forms for \n",
        "* the oracle that recognizes the indices that correspond to truly alternating bitstrings, \n",
        "* the diffuser, which allows Grover's algorithm to refine its predictions,\n",
        "* and the final ansatz, which puts the oracle and diffuser together."
      ]
    },
    {
      "cell_type": "code",
      "metadata": {
        "id": "ga-Ubq3oqkd5"
      },
      "source": [
        "#!pip install qiskit\n",
        "from qiskit import *"
      ],
      "execution_count": 47,
      "outputs": []
    },
    {
      "cell_type": "code",
      "metadata": {
        "id": "fFzc7E-_gRLh",
        "colab": {
          "base_uri": "https://localhost:8080/",
          "height": 186
        },
        "outputId": "873e984d-2be8-4c31-c498-6b411958ebde"
      },
      "source": [
        "def get_oracle(num_qubits, val_indices, alternating):\n",
        "  index_reg = QuantumRegister(num_qubits, name=\"indices\")\n",
        "  checks = QuantumRegister(sum(alternating), name=\"checks\")\n",
        "  function_output = QuantumRegister(1, name=\"func\")\n",
        "  oracle = QuantumCircuit(index_reg, checks, function_output)\n",
        "\n",
        "  idx = 0\n",
        "  for inp, valid in zip(val_indices, alternating):\n",
        "    if (valid):\n",
        "      for i, x in enumerate(inp):\n",
        "        if (x == '0'):\n",
        "          oracle.x(index_reg[i])\n",
        "      oracle.mct(index_reg, checks[idx])\n",
        "      for i, x in enumerate(inp):\n",
        "        if (x == '0'):\n",
        "          oracle.x(index_reg[i])\n",
        "      oracle.barrier()\n",
        "      idx += 1\n",
        "  \n",
        "  oracle.x(checks)\n",
        "  oracle.mct(checks, function_output)\n",
        "  oracle.x(checks)\n",
        "  oracle.x(function_output)\n",
        "  \n",
        "  return oracle\n",
        "\n",
        "get_oracle(2, [\"01\", \"00\", \"10\", \"11\"], [True, False, True, False]).draw()"
      ],
      "execution_count": 48,
      "outputs": [
        {
          "output_type": "execute_result",
          "data": {
            "text/html": [
              "<pre style=\"word-wrap: normal;white-space: pre;background: #fff0;line-height: 1.1;font-family: &quot;Courier New&quot;,Courier,monospace\">           ┌───┐     ┌───┐ ░                 ░                \n",
              "indices_0: ┤ X ├──■──┤ X ├─░────────■────────░────────────────\n",
              "           └───┘  │  └───┘ ░ ┌───┐  │  ┌───┐ ░                \n",
              "indices_1: ───────■────────░─┤ X ├──■──┤ X ├─░────────────────\n",
              "                ┌─┴─┐      ░ └───┘  │  └───┘ ░ ┌───┐     ┌───┐\n",
              " checks_0: ─────┤ X ├──────░────────┼────────░─┤ X ├──■──┤ X ├\n",
              "                └───┘      ░      ┌─┴─┐      ░ ├───┤  │  ├───┤\n",
              " checks_1: ────────────────░──────┤ X ├──────░─┤ X ├──■──┤ X ├\n",
              "                           ░      └───┘      ░ └───┘┌─┴─┐├───┤\n",
              "   func_0: ────────────────░─────────────────░──────┤ X ├┤ X ├\n",
              "                           ░                 ░      └───┘└───┘</pre>"
            ],
            "text/plain": [
              "           ┌───┐     ┌───┐ ░                 ░                \n",
              "indices_0: ┤ X ├──■──┤ X ├─░────────■────────░────────────────\n",
              "           └───┘  │  └───┘ ░ ┌───┐  │  ┌───┐ ░                \n",
              "indices_1: ───────■────────░─┤ X ├──■──┤ X ├─░────────────────\n",
              "                ┌─┴─┐      ░ └───┘  │  └───┘ ░ ┌───┐     ┌───┐\n",
              " checks_0: ─────┤ X ├──────░────────┼────────░─┤ X ├──■──┤ X ├\n",
              "                └───┘      ░      ┌─┴─┐      ░ ├───┤  │  ├───┤\n",
              " checks_1: ────────────────░──────┤ X ├──────░─┤ X ├──■──┤ X ├\n",
              "                           ░      └───┘      ░ └───┘┌─┴─┐├───┤\n",
              "   func_0: ────────────────░─────────────────░──────┤ X ├┤ X ├\n",
              "                           ░                 ░      └───┘└───┘"
            ]
          },
          "metadata": {},
          "execution_count": 48
        }
      ]
    },
    {
      "cell_type": "markdown",
      "metadata": {
        "id": "j0Bgx-4qVA52"
      },
      "source": [
        "The get_oracle function returns a QuantumCircuit that returns a 0 or 1 in the function_output register based on whether the input state indicated by val_indices represents an alternating bitstring. \n",
        "\n",
        "Each of the checks registers checks for one of the two possible alternating bitstrings (i.e. 1010... or 0101...) given the number of total qubits. \n",
        "\n",
        "At the end, function_output is set to 1 as long as both checks are not 0. The last section of the above circuit act like a classical OR gate on the two checks registers, composed of NOTs (Pauli X) and ANDs (multi-controlled Toffoli gates)."
      ]
    },
    {
      "cell_type": "code",
      "metadata": {
        "id": "QRilX3yELGOO",
        "colab": {
          "base_uri": "https://localhost:8080/",
          "height": 94
        },
        "outputId": "30992fbf-dead-476e-f0e4-59882708987e"
      },
      "source": [
        "def diffuser(m):\n",
        "  index_reg = QuantumRegister(m, name=\"indices\")\n",
        "  diff = QuantumCircuit(index_reg)\n",
        "\n",
        "  diff.h(index_reg)\n",
        "  diff.x(index_reg)\n",
        "\n",
        "  diff.h(index_reg[-1])\n",
        "  diff.mct(index_reg[:-1], index_reg[-1])\n",
        "  diff.h(index_reg[-1])\n",
        "\n",
        "  diff.x(index_reg)\n",
        "  diff.h(index_reg)\n",
        "\n",
        "  return diff\n",
        "\n",
        "diffuser(2).draw()"
      ],
      "execution_count": 49,
      "outputs": [
        {
          "output_type": "execute_result",
          "data": {
            "text/html": [
              "<pre style=\"word-wrap: normal;white-space: pre;background: #fff0;line-height: 1.1;font-family: &quot;Courier New&quot;,Courier,monospace\">           ┌───┐┌───┐          ┌───┐┌───┐     \n",
              "indices_0: ┤ H ├┤ X ├───────■──┤ X ├┤ H ├─────\n",
              "           ├───┤├───┤┌───┐┌─┴─┐├───┤├───┤┌───┐\n",
              "indices_1: ┤ H ├┤ X ├┤ H ├┤ X ├┤ H ├┤ X ├┤ H ├\n",
              "           └───┘└───┘└───┘└───┘└───┘└───┘└───┘</pre>"
            ],
            "text/plain": [
              "           ┌───┐┌───┐          ┌───┐┌───┐     \n",
              "indices_0: ┤ H ├┤ X ├───────■──┤ X ├┤ H ├─────\n",
              "           ├───┤├───┤┌───┐┌─┴─┐├───┤├───┤┌───┐\n",
              "indices_1: ┤ H ├┤ X ├┤ H ├┤ X ├┤ H ├┤ X ├┤ H ├\n",
              "           └───┘└───┘└───┘└───┘└───┘└───┘└───┘"
            ]
          },
          "metadata": {},
          "execution_count": 49
        }
      ]
    },
    {
      "cell_type": "markdown",
      "metadata": {
        "id": "q1Mi422XWxla"
      },
      "source": [
        "diffuser returns a QuantumCircuit that acts to amplify the probabilities of the correct state in Grover search. This is the canonical formulation of this circuit, copied from the original paper."
      ]
    },
    {
      "cell_type": "code",
      "metadata": {
        "id": "mOo8LNOsmgC2"
      },
      "source": [
        "def grover_alternating_circuit(num_qubits, val_indices, alternating, iters=1):\n",
        "  index_reg = QuantumRegister(num_qubits, name=\"indices\")\n",
        "  checks = QuantumRegister(sum(alternating), name=\"checks\")\n",
        "  function_output = QuantumRegister(1, name=\"func\")\n",
        "  measurements = ClassicalRegister(num_qubits, name=\"measure\")\n",
        "\n",
        "  oracle = get_oracle(num_qubits, val_indices, alternating)\n",
        "  diffuse = diffuser(num_qubits)\n",
        "  grover_alternating = QuantumCircuit(index_reg, checks, function_output, measurements)\n",
        "\n",
        "  grover_alternating.h(index_reg)\n",
        "\n",
        "  grover_alternating.z(function_output)\n",
        "\n",
        "  for _ in range(iters):\n",
        "    grover_alternating += oracle\n",
        "    grover_alternating.barrier()\n",
        "    grover_alternating += diffuse\n",
        "\n",
        "  grover_alternating.x(function_output)\n",
        "\n",
        "  grover_alternating.measure(index_reg, measurements)\n",
        "\n",
        "  return grover_alternating"
      ],
      "execution_count": 50,
      "outputs": []
    },
    {
      "cell_type": "markdown",
      "metadata": {
        "id": "XDqzi5a6XFwE"
      },
      "source": [
        "grover_alternating_circuit returns the total Grover's Algorithm circuit, comprised of layers of oracles and diffusers. \n",
        "\n",
        "The index registers (that represent the indices of the original input array) are set to a superposition of all possible states. A Z gate is applied to the function_output register to exploit the phase kickback effect."
      ]
    },
    {
      "cell_type": "markdown",
      "metadata": {
        "id": "uPlDINdaqlwQ"
      },
      "source": [
        "## Step 3: Simulating the Quantum Circuit 📈 \n",
        "Finally, we are ready to run the final circuit! \n",
        "\n",
        "Some test cases are included to prove the algorithms effectiveness, and results are plotted to analyze the effects of hyperparamaters like diffusion count on the final results."
      ]
    },
    {
      "cell_type": "code",
      "metadata": {
        "id": "x_mm2jmRUZIj"
      },
      "source": [
        "from matplotlib import pyplot as plt\n",
        "# Utilities for parameter extraction and data visualization \n",
        "\n",
        "def plot_results(counts, val_indices, alternating):\n",
        "  # Qiskit stores registers in reverse order, so we reverse again before plotting.\n",
        "  plt.title(\"Correct indices: \" + str([x for x, y in zip(val_indices, alternating) if y]))\n",
        "  plt.bar([x[::-1] for x in dict(counts).keys()], dict(counts).values())\n",
        "  plt.xticks(rotation=45)\n",
        "  plt.show()\n",
        "\n",
        "def get_ind_bitstring_and_alternating(num_qubits, values):\n",
        "  val_indices = list(map(lambda x: to_bitstring(x, num_qubits), range(2**num_qubits)))\n",
        "  val_bitstrings = list(map(lambda x: to_bitstring(x, np.floor(np.log2(max(values))) + 1), values))\n",
        "  alternating = list(map(check_alternating, val_bitstrings))\n",
        "  return val_indices, val_bitstrings, alternating"
      ],
      "execution_count": 51,
      "outputs": []
    },
    {
      "cell_type": "code",
      "metadata": {
        "id": "Shvwc4CByHIO"
      },
      "source": [
        "# MODIFY THIS SECTION WITH TEST CASES - (1) num_qubits and (2) values = list of 2^(num_qubits) vals\n",
        "num_qubits = 3\n",
        "values = [1, 4, 5, 7, 10, 8, 3, 2]\n",
        "\n",
        "grover_iters = 2"
      ],
      "execution_count": 80,
      "outputs": []
    },
    {
      "cell_type": "code",
      "metadata": {
        "colab": {
          "base_uri": "https://localhost:8080/"
        },
        "id": "ZsaSKNaGgt5A",
        "outputId": "ccd36e6d-ff6a-4698-be83-85ec276628be"
      },
      "source": [
        "val_indices, val_bitstrings, alternating = get_ind_bitstring_and_alternating(num_qubits, values)\n",
        "# Verify that bitstrings match with results of check_alternating\n",
        "print(val_bitstrings)\n",
        "print(alternating)"
      ],
      "execution_count": 81,
      "outputs": [
        {
          "output_type": "stream",
          "name": "stdout",
          "text": [
            "['0001', '0100', '0101', '0111', '1010', '1000', '0011', '0010']\n",
            "[False, False, True, False, True, False, False, False]\n"
          ]
        }
      ]
    },
    {
      "cell_type": "code",
      "metadata": {
        "colab": {
          "base_uri": "https://localhost:8080/",
          "height": 710
        },
        "id": "YCgbW6E9xQ50",
        "outputId": "517f8a25-18ae-49d9-b8ec-551a2cc6b5c7"
      },
      "source": [
        "gac = grover_alternating_circuit(num_qubits, val_indices, alternating, iters=grover_iters)\n",
        "gac.draw()"
      ],
      "execution_count": 82,
      "outputs": [
        {
          "output_type": "execute_result",
          "data": {
            "text/html": [
              "<pre style=\"word-wrap: normal;white-space: pre;background: #fff0;line-height: 1.1;font-family: &quot;Courier New&quot;,Courier,monospace\">           ┌───┐┌───┐     ┌───┐ ░                 ░                 ░ ┌───┐»\n",
              "indices_0: ┤ H ├┤ X ├──■──┤ X ├─░────────■────────░─────────────────░─┤ H ├»\n",
              "           ├───┤└───┘  │  └───┘ ░ ┌───┐  │  ┌───┐ ░                 ░ ├───┤»\n",
              "indices_1: ┤ H ├───────■────────░─┤ X ├──■──┤ X ├─░─────────────────░─┤ H ├»\n",
              "           ├───┤┌───┐  │  ┌───┐ ░ ├───┤  │  ├───┤ ░                 ░ ├───┤»\n",
              "indices_2: ┤ H ├┤ X ├──■──┤ X ├─░─┤ X ├──■──┤ X ├─░─────────────────░─┤ H ├»\n",
              "           └───┘└───┘┌─┴─┐└───┘ ░ └───┘  │  └───┘ ░ ┌───┐     ┌───┐ ░ └───┘»\n",
              " checks_0: ──────────┤ X ├──────░────────┼────────░─┤ X ├──■──┤ X ├─░──────»\n",
              "                     └───┘      ░      ┌─┴─┐      ░ ├───┤  │  ├───┤ ░      »\n",
              " checks_1: ─────────────────────░──────┤ X ├──────░─┤ X ├──■──┤ X ├─░──────»\n",
              "           ┌───┐                ░      └───┘      ░ └───┘┌─┴─┐├───┤ ░      »\n",
              "   func_0: ┤ Z ├────────────────░─────────────────░──────┤ X ├┤ X ├─░──────»\n",
              "           └───┘                ░                 ░      └───┘└───┘ ░      »\n",
              "measure: 3/════════════════════════════════════════════════════════════════»\n",
              "                                                                           »\n",
              "«           ┌───┐          ┌───┐┌───┐┌───┐          ┌───┐ ░                 ░ »\n",
              "«indices_0: ┤ X ├───────■──┤ X ├┤ H ├┤ X ├───────■──┤ X ├─░────────■────────░─»\n",
              "«           ├───┤       │  ├───┤├───┤└───┘       │  └───┘ ░ ┌───┐  │  ┌───┐ ░ »\n",
              "«indices_1: ┤ X ├───────■──┤ X ├┤ H ├────────────■────────░─┤ X ├──■──┤ X ├─░─»\n",
              "«           ├───┤┌───┐┌─┴─┐├───┤├───┤┌───┐┌───┐  │  ┌───┐ ░ ├───┤  │  ├───┤ ░ »\n",
              "«indices_2: ┤ X ├┤ H ├┤ X ├┤ H ├┤ X ├┤ H ├┤ X ├──■──┤ X ├─░─┤ X ├──■──┤ X ├─░─»\n",
              "«           └───┘└───┘└───┘└───┘└───┘└───┘└───┘┌─┴─┐└───┘ ░ └───┘  │  └───┘ ░ »\n",
              "« checks_0: ───────────────────────────────────┤ X ├──────░────────┼────────░─»\n",
              "«                                              └───┘      ░      ┌─┴─┐      ░ »\n",
              "« checks_1: ──────────────────────────────────────────────░──────┤ X ├──────░─»\n",
              "«                                                         ░      └───┘      ░ »\n",
              "«   func_0: ──────────────────────────────────────────────░─────────────────░─»\n",
              "«                                                         ░                 ░ »\n",
              "«measure: 3/══════════════════════════════════════════════════════════════════»\n",
              "«                                                                             »\n",
              "«                           ░ ┌───┐┌───┐          ┌───┐┌───┐     ┌─┐      \n",
              "«indices_0: ────────────────░─┤ H ├┤ X ├───────■──┤ X ├┤ H ├─────┤M├──────\n",
              "«                           ░ ├───┤├───┤       │  ├───┤├───┤     └╥┘┌─┐   \n",
              "«indices_1: ────────────────░─┤ H ├┤ X ├───────■──┤ X ├┤ H ├──────╫─┤M├───\n",
              "«                           ░ ├───┤├───┤┌───┐┌─┴─┐├───┤├───┤┌───┐ ║ └╥┘┌─┐\n",
              "«indices_2: ────────────────░─┤ H ├┤ X ├┤ H ├┤ X ├┤ H ├┤ X ├┤ H ├─╫──╫─┤M├\n",
              "«           ┌───┐     ┌───┐ ░ └───┘└───┘└───┘└───┘└───┘└───┘└───┘ ║  ║ └╥┘\n",
              "« checks_0: ┤ X ├──■──┤ X ├─░─────────────────────────────────────╫──╫──╫─\n",
              "«           ├───┤  │  ├───┤ ░                                     ║  ║  ║ \n",
              "« checks_1: ┤ X ├──■──┤ X ├─░─────────────────────────────────────╫──╫──╫─\n",
              "«           └───┘┌─┴─┐├───┤ ░ ┌───┐                               ║  ║  ║ \n",
              "«   func_0: ─────┤ X ├┤ X ├─░─┤ X ├───────────────────────────────╫──╫──╫─\n",
              "«                └───┘└───┘ ░ └───┘                               ║  ║  ║ \n",
              "«measure: 3/══════════════════════════════════════════════════════╩══╩══╩═\n",
              "«                                                                 0  1  2 </pre>"
            ],
            "text/plain": [
              "           ┌───┐┌───┐     ┌───┐ ░                 ░                 ░ ┌───┐»\n",
              "indices_0: ┤ H ├┤ X ├──■──┤ X ├─░────────■────────░─────────────────░─┤ H ├»\n",
              "           ├───┤└───┘  │  └───┘ ░ ┌───┐  │  ┌───┐ ░                 ░ ├───┤»\n",
              "indices_1: ┤ H ├───────■────────░─┤ X ├──■──┤ X ├─░─────────────────░─┤ H ├»\n",
              "           ├───┤┌───┐  │  ┌───┐ ░ ├───┤  │  ├───┤ ░                 ░ ├───┤»\n",
              "indices_2: ┤ H ├┤ X ├──■──┤ X ├─░─┤ X ├──■──┤ X ├─░─────────────────░─┤ H ├»\n",
              "           └───┘└───┘┌─┴─┐└───┘ ░ └───┘  │  └───┘ ░ ┌───┐     ┌───┐ ░ └───┘»\n",
              " checks_0: ──────────┤ X ├──────░────────┼────────░─┤ X ├──■──┤ X ├─░──────»\n",
              "                     └───┘      ░      ┌─┴─┐      ░ ├───┤  │  ├───┤ ░      »\n",
              " checks_1: ─────────────────────░──────┤ X ├──────░─┤ X ├──■──┤ X ├─░──────»\n",
              "           ┌───┐                ░      └───┘      ░ └───┘┌─┴─┐├───┤ ░      »\n",
              "   func_0: ┤ Z ├────────────────░─────────────────░──────┤ X ├┤ X ├─░──────»\n",
              "           └───┘                ░                 ░      └───┘└───┘ ░      »\n",
              "measure: 3/════════════════════════════════════════════════════════════════»\n",
              "                                                                           »\n",
              "«           ┌───┐          ┌───┐┌───┐┌───┐          ┌───┐ ░                 ░ »\n",
              "«indices_0: ┤ X ├───────■──┤ X ├┤ H ├┤ X ├───────■──┤ X ├─░────────■────────░─»\n",
              "«           ├───┤       │  ├───┤├───┤└───┘       │  └───┘ ░ ┌───┐  │  ┌───┐ ░ »\n",
              "«indices_1: ┤ X ├───────■──┤ X ├┤ H ├────────────■────────░─┤ X ├──■──┤ X ├─░─»\n",
              "«           ├───┤┌───┐┌─┴─┐├───┤├───┤┌───┐┌───┐  │  ┌───┐ ░ ├───┤  │  ├───┤ ░ »\n",
              "«indices_2: ┤ X ├┤ H ├┤ X ├┤ H ├┤ X ├┤ H ├┤ X ├──■──┤ X ├─░─┤ X ├──■──┤ X ├─░─»\n",
              "«           └───┘└───┘└───┘└───┘└───┘└───┘└───┘┌─┴─┐└───┘ ░ └───┘  │  └───┘ ░ »\n",
              "« checks_0: ───────────────────────────────────┤ X ├──────░────────┼────────░─»\n",
              "«                                              └───┘      ░      ┌─┴─┐      ░ »\n",
              "« checks_1: ──────────────────────────────────────────────░──────┤ X ├──────░─»\n",
              "«                                                         ░      └───┘      ░ »\n",
              "«   func_0: ──────────────────────────────────────────────░─────────────────░─»\n",
              "«                                                         ░                 ░ »\n",
              "«measure: 3/══════════════════════════════════════════════════════════════════»\n",
              "«                                                                             »\n",
              "«                           ░ ┌───┐┌───┐          ┌───┐┌───┐     ┌─┐      \n",
              "«indices_0: ────────────────░─┤ H ├┤ X ├───────■──┤ X ├┤ H ├─────┤M├──────\n",
              "«                           ░ ├───┤├───┤       │  ├───┤├───┤     └╥┘┌─┐   \n",
              "«indices_1: ────────────────░─┤ H ├┤ X ├───────■──┤ X ├┤ H ├──────╫─┤M├───\n",
              "«                           ░ ├───┤├───┤┌───┐┌─┴─┐├───┤├───┤┌───┐ ║ └╥┘┌─┐\n",
              "«indices_2: ────────────────░─┤ H ├┤ X ├┤ H ├┤ X ├┤ H ├┤ X ├┤ H ├─╫──╫─┤M├\n",
              "«           ┌───┐     ┌───┐ ░ └───┘└───┘└───┘└───┘└───┘└───┘└───┘ ║  ║ └╥┘\n",
              "« checks_0: ┤ X ├──■──┤ X ├─░─────────────────────────────────────╫──╫──╫─\n",
              "«           ├───┤  │  ├───┤ ░                                     ║  ║  ║ \n",
              "« checks_1: ┤ X ├──■──┤ X ├─░─────────────────────────────────────╫──╫──╫─\n",
              "«           └───┘┌─┴─┐├───┤ ░ ┌───┐                               ║  ║  ║ \n",
              "«   func_0: ─────┤ X ├┤ X ├─░─┤ X ├───────────────────────────────╫──╫──╫─\n",
              "«                └───┘└───┘ ░ └───┘                               ║  ║  ║ \n",
              "«measure: 3/══════════════════════════════════════════════════════╩══╩══╩═\n",
              "«                                                                 0  1  2 "
            ]
          },
          "metadata": {},
          "execution_count": 82
        }
      ]
    },
    {
      "cell_type": "code",
      "metadata": {
        "id": "OlL4bqpdnBEJ"
      },
      "source": [
        "backend = Aer.get_backend(\"qasm_simulator\")\n",
        "job = execute(gac, backend=backend)\n",
        "result = job.result()\n",
        "counts = result.get_counts()"
      ],
      "execution_count": 83,
      "outputs": []
    },
    {
      "cell_type": "code",
      "metadata": {
        "colab": {
          "base_uri": "https://localhost:8080/",
          "height": 292
        },
        "id": "SL0ko7kzZ9-5",
        "outputId": "cb799411-e693-4d5b-948e-b4a21b0976bb"
      },
      "source": [
        "plot_results(counts, val_indices, alternating)"
      ],
      "execution_count": 84,
      "outputs": [
        {
          "output_type": "display_data",
          "data": {
            "image/png": "[encoded data removed]",
            "text/plain": [
              "<Figure size 432x288 with 1 Axes>"
            ]
          },
          "metadata": {
            "needs_background": "light"
          }
        }
      ]
    },
    {
      "cell_type": "markdown",
      "metadata": {
        "id": "Y4_qjrpg3qIs"
      },
      "source": [
        "## Step 4: Running on Real Quantum Computers 🕹️ \n",
        "I further show that my implementation is correct by running the algorithm on real IBM quantum computers and plotting the results. "
      ]
    },
    {
      "cell_type": "code",
      "metadata": {
        "id": "kfEQZs9O8F5e"
      },
      "source": [
        "# MODIFY TEST CASES\n",
        "num_qubits = 2\n",
        "values = [1, 4, 5, 7]\n",
        "\n",
        "grover_iters = 1"
      ],
      "execution_count": 69,
      "outputs": []
    },
    {
      "cell_type": "code",
      "metadata": {
        "id": "nds2pHib82Pp"
      },
      "source": [
        "val_indices, val_bitstrings, alternating = get_ind_bitstring_and_alternating(num_qubits, values)\n",
        "gac = grover_alternating_circuit(num_qubits, val_indices, alternating, iters=grover_iters)\n",
        "# gac.draw()"
      ],
      "execution_count": 70,
      "outputs": []
    },
    {
      "cell_type": "code",
      "metadata": {
        "id": "GvC8vv-Z0i9s",
        "colab": {
          "base_uri": "https://localhost:8080/"
        },
        "outputId": "4af1e18e-85bc-43c9-87ac-c10dbca2c2e6"
      },
      "source": [
        "# Note: can only run currently for num_qubits=2 (4 values in list) because only 5-qubit machines are available.\n",
        "IBMQ.save_account(\"d25fd280c37d42ee57d1047e4b5e9b0e1682978c9646e359a69781dd1602c55a9094bb7b0916bbb1399054b4380ffdeab12139cd156667877c94cc186f9873f7\")\n",
        "IBMQ.load_account()\n",
        "provider = IBMQ.get_provider()"
      ],
      "execution_count": 71,
      "outputs": [
        {
          "output_type": "stream",
          "name": "stderr",
          "text": [
            "configrc.store_credentials:WARNING:2021-09-26 18:38:40,766: Credentials already present. Set overwrite=True to overwrite.\n",
            "ibmqfactory.load_account:WARNING:2021-09-26 18:38:41,023: Credentials are already in use. The existing account in the session will be replaced.\n"
          ]
        }
      ]
    },
    {
      "cell_type": "code",
      "metadata": {
        "colab": {
          "base_uri": "https://localhost:8080/"
        },
        "id": "Kxdgnian3nAE",
        "outputId": "f429dbdd-3276-476c-c63d-17204f94fec4"
      },
      "source": [
        "from qiskit.tools.monitor import job_monitor\n",
        "job = execute(gac, backend=provider.get_backend('ibmq_belem'))\n",
        "\n",
        "job_monitor(job)"
      ],
      "execution_count": 72,
      "outputs": [
        {
          "output_type": "stream",
          "name": "stdout",
          "text": [
            "Job Status: job has successfully run\n"
          ]
        }
      ]
    },
    {
      "cell_type": "code",
      "metadata": {
        "id": "tt-Yky9EAzP4"
      },
      "source": [
        "result = job.result()\n",
        "counts = result.get_counts()"
      ],
      "execution_count": 73,
      "outputs": []
    },
    {
      "cell_type": "code",
      "metadata": {
        "colab": {
          "base_uri": "https://localhost:8080/",
          "height": 287
        },
        "id": "jFL32Eid4XXi",
        "outputId": "a1effa0b-631f-4616-bf5d-a747537b7e05"
      },
      "source": [
        "plot_results(counts, val_indices, alternating)"
      ],
      "execution_count": 74,
      "outputs": [
        {
          "output_type": "display_data",
          "data": {
            "image/png": "[encoded data removed]",
            "text/plain": [
              "<Figure size 432x288 with 1 Axes>"
            ]
          },
          "metadata": {
            "needs_background": "light"
          }
        }
      ]
    },
    {
      "cell_type": "markdown",
      "metadata": {
        "id": "lIELwzkMBqlK"
      },
      "source": [
        "# Conclusion 🎉 \n",
        "Although there is much more noise in the real Quantum Computer run than in the QASM runs, it is still clear that the correct index was identified by the circuit. \n",
        "\n",
        "After testing increasingly higher values of num_qubits on the QASM simulator, it is clear that my implementation works for all power of 2. \n",
        "\n",
        "**Thank you so much to the Quantum Open Source Foundation for the challenge!** 🥳 "
      ]
    }
  ]
}