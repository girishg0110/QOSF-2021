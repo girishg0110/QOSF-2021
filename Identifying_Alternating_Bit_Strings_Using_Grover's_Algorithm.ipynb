{
  "nbformat": 4,
  "nbformat_minor": 0,
  "metadata": {
    "colab": {
      "name": "Identifying Alternating Bit-Strings Using Grover's Algorithm.ipynb",
      "provenance": []
    },
    "kernelspec": {
      "name": "python3",
      "display_name": "Python 3"
    },
    "language_info": {
      "name": "python"
    }
  },
  "cells": [
    {
      "cell_type": "markdown",
      "metadata": {
        "id": "obksp0xOeClF"
      },
      "source": [
        "# Identifying Alternating Bit-Strings Using Grover's Algorithm ⚗️ "
      ]
    },
    {
      "cell_type": "markdown",
      "metadata": {
        "id": "rpJ_yJAZebZf"
      },
      "source": [
        "## Step 1: Preprocessing 🤖 \n",
        "Here, we take in the list of values and generate...\n",
        "* a list of bitstring indices\n",
        "* bitstring representations for each value in the list\n",
        "* and a list of True/False values that indicate whether each value represents an alternating bitstring."
      ]
    },
    {
      "cell_type": "code",
      "metadata": {
        "id": "rUEaH-kIdjvi"
      },
      "source": [
        "import numpy as np\n",
        "def to_bitstring(n, max_len):\n",
        "  s = \"\"\n",
        "  while (len(s) < max_len):\n",
        "    s += str(n%2)\n",
        "    n //= 2\n",
        "  return s[::-1]"
      ],
      "execution_count": 56,
      "outputs": []
    },
    {
      "cell_type": "code",
      "metadata": {
        "id": "HviRgXZgdrxi"
      },
      "source": [
        "def check_alternating(s):\n",
        "  if (len(s) == 1): \n",
        "    return True\n",
        "  for i in range(len(s) - 1):\n",
        "    if (s[i] == s[i+1]):\n",
        "      return False\n",
        "  return True"
      ],
      "execution_count": 57,
      "outputs": []
    },
    {
      "cell_type": "markdown",
      "metadata": {
        "id": "lBLtmZLofqK_"
      },
      "source": [
        "## Step 2: Creating a Quantum Solution 👁️ \n",
        "Here, we instantiate general forms for \n",
        "* the oracle that recognizes the indices that correspond to truly alternating bitstrings, \n",
        "* the diffuser, which allows Grover's algorithm to refine its predictions,\n",
        "* and the final ansatz, which puts the oracle and diffuser together."
      ]
    },
    {
      "cell_type": "code",
      "metadata": {
        "id": "ga-Ubq3oqkd5"
      },
      "source": [
        "#!pip install qiskit\n",
        "from qiskit import *"
      ],
      "execution_count": 58,
      "outputs": []
    },
    {
      "cell_type": "code",
      "metadata": {
        "id": "fFzc7E-_gRLh"
      },
      "source": [
        "def get_oracle(num_qubits, val_indices, alternating):\n",
        "  index_reg = QuantumRegister(num_qubits, name=\"indices\")\n",
        "  checks = QuantumRegister(sum(alternating), name=\"checks\")\n",
        "  function_output = QuantumRegister(1, name=\"func\")\n",
        "  oracle = QuantumCircuit(index_reg, checks, function_output)\n",
        "\n",
        "  idx = 0\n",
        "  for inp, valid in zip(val_indices, alternating):\n",
        "    if (valid):\n",
        "      for i, x in enumerate(inp):\n",
        "        if (x == '0'):\n",
        "          oracle.x(index_reg[i])\n",
        "      oracle.mct(index_reg, checks[idx])\n",
        "      for i, x in enumerate(inp):\n",
        "        if (x == '0'):\n",
        "          oracle.x(index_reg[i])\n",
        "      oracle.barrier()\n",
        "      idx += 1\n",
        "  \n",
        "  oracle.x(checks)\n",
        "  oracle.mct(checks, function_output)\n",
        "  oracle.x(checks)\n",
        "  oracle.x(function_output)\n",
        "  \n",
        "  return oracle"
      ],
      "execution_count": 59,
      "outputs": []
    },
    {
      "cell_type": "code",
      "metadata": {
        "id": "QRilX3yELGOO"
      },
      "source": [
        "def diffuser(m):\n",
        "  index_reg = QuantumRegister(m, name=\"indices\")\n",
        "  diff = QuantumCircuit(index_reg)\n",
        "\n",
        "  diff.h(index_reg)\n",
        "  diff.x(index_reg)\n",
        "\n",
        "  diff.h(index_reg[-1])\n",
        "  diff.mct(index_reg[:-1], index_reg[-1])\n",
        "  diff.h(index_reg[-1])\n",
        "\n",
        "  diff.x(index_reg)\n",
        "  diff.h(index_reg)\n",
        "\n",
        "  return diff"
      ],
      "execution_count": 60,
      "outputs": []
    },
    {
      "cell_type": "code",
      "metadata": {
        "id": "mOo8LNOsmgC2"
      },
      "source": [
        "def grover_alternating_circuit(num_qubits, val_indices, alternating, iters=1):\n",
        "  index_reg = QuantumRegister(num_qubits, name=\"indices\")\n",
        "  checks = QuantumRegister(sum(alternating), name=\"checks\")\n",
        "  function_output = QuantumRegister(1, name=\"func\")\n",
        "  measurements = ClassicalRegister(num_qubits, name=\"measure\")\n",
        "\n",
        "  oracle = get_oracle(num_qubits, val_indices, alternating)\n",
        "  diffuse = diffuser(num_qubits)\n",
        "  grover_alternating = QuantumCircuit(index_reg, checks, function_output, measurements)\n",
        "\n",
        "  grover_alternating.h(index_reg)\n",
        "\n",
        "  grover_alternating.h(function_output)\n",
        "  grover_alternating.x(function_output)\n",
        "  grover_alternating.h(function_output)\n",
        "\n",
        "  for _ in range(iters):\n",
        "    grover_alternating += oracle\n",
        "    grover_alternating.barrier()\n",
        "    grover_alternating += diffuse\n",
        "\n",
        "  grover_alternating.x(function_output)\n",
        "\n",
        "  grover_alternating.measure(index_reg, measurements)\n",
        "\n",
        "  return grover_alternating"
      ],
      "execution_count": 61,
      "outputs": []
    },
    {
      "cell_type": "markdown",
      "metadata": {
        "id": "uPlDINdaqlwQ"
      },
      "source": [
        "## Step 3: Simulating the Quantum Circuit 📈 \n",
        "Finally, we are ready to run the final circuit! \n",
        "\n",
        "Some test cases are included to prove the algorithms effectiveness, and results are plotted to analyze the effects of hyperparamaters like diffusion count on the final results."
      ]
    },
    {
      "cell_type": "code",
      "metadata": {
        "id": "Shvwc4CByHIO"
      },
      "source": [
        "# MODIFY THIS SECTION WITH TEST CASES - (1) num_qubits and (2) values = list of 2^(num_qubits) vals\n",
        "num_qubits = 3\n",
        "values = [1, 4, 5, 7, 10, 8, 3, 2]\n",
        "\n",
        "grover_iters = 5"
      ],
      "execution_count": 62,
      "outputs": []
    },
    {
      "cell_type": "code",
      "metadata": {
        "colab": {
          "base_uri": "https://localhost:8080/"
        },
        "id": "ZsaSKNaGgt5A",
        "outputId": "28fc59d8-98d9-46c9-a362-3d6a7c0edd64"
      },
      "source": [
        "def get_ind_bitstring_and_alternating(num_qubits, values):\n",
        "  val_indices = list(map(lambda x: to_bitstring(x, num_qubits), range(2**num_qubits)))\n",
        "  val_bitstrings = list(map(lambda x: to_bitstring(x, np.floor(np.log2(max(values))) + 1), values))\n",
        "  alternating = list(map(check_alternating, val_bitstrings))\n",
        "  return val_indices, val_bitstrings, alternating\n",
        "\n",
        "val_indices, val_bitstrings, alternating = get_ind_bitstring_and_alternating(num_qubits, values)\n",
        "# Verify that bitstrings match with results of check_alternating\n",
        "print(val_bitstrings)\n",
        "print(alternating)"
      ],
      "execution_count": 63,
      "outputs": [
        {
          "output_type": "stream",
          "name": "stdout",
          "text": [
            "['0001', '0100', '0101', '0111', '1010', '1000', '0011', '0010']\n",
            "[False, False, True, False, True, False, False, False]\n"
          ]
        }
      ]
    },
    {
      "cell_type": "code",
      "metadata": {
        "colab": {
          "base_uri": "https://localhost:8080/",
          "height": 1000
        },
        "id": "YCgbW6E9xQ50",
        "outputId": "306ed0a8-d887-4aea-ca26-391ef5c97321"
      },
      "source": [
        "gac = grover_alternating_circuit(num_qubits, val_indices, alternating, iters=grover_iters)\n",
        "gac.draw()"
      ],
      "execution_count": 64,
      "outputs": [
        {
          "output_type": "execute_result",
          "data": {
            "text/html": [
              "<pre style=\"word-wrap: normal;white-space: pre;background: #fff0;line-height: 1.1;font-family: &quot;Courier New&quot;,Courier,monospace\">           ┌───┐┌───┐     ┌───┐ ░                 ░                 ░ ┌───┐»\n",
              "indices_0: ┤ H ├┤ X ├──■──┤ X ├─░────────■────────░─────────────────░─┤ H ├»\n",
              "           ├───┤└───┘  │  └───┘ ░ ┌───┐  │  ┌───┐ ░                 ░ ├───┤»\n",
              "indices_1: ┤ H ├───────■────────░─┤ X ├──■──┤ X ├─░─────────────────░─┤ H ├»\n",
              "           ├───┤┌───┐  │  ┌───┐ ░ ├───┤  │  ├───┤ ░                 ░ ├───┤»\n",
              "indices_2: ┤ H ├┤ X ├──■──┤ X ├─░─┤ X ├──■──┤ X ├─░─────────────────░─┤ H ├»\n",
              "           └───┘└───┘┌─┴─┐└───┘ ░ └───┘  │  └───┘ ░ ┌───┐     ┌───┐ ░ └───┘»\n",
              " checks_0: ──────────┤ X ├──────░────────┼────────░─┤ X ├──■──┤ X ├─░──────»\n",
              "                     └───┘      ░      ┌─┴─┐      ░ ├───┤  │  ├───┤ ░      »\n",
              " checks_1: ─────────────────────░──────┤ X ├──────░─┤ X ├──■──┤ X ├─░──────»\n",
              "           ┌───┐┌───┐┌───┐      ░      └───┘      ░ └───┘┌─┴─┐├───┤ ░      »\n",
              "   func_0: ┤ H ├┤ X ├┤ H ├──────░─────────────────░──────┤ X ├┤ X ├─░──────»\n",
              "           └───┘└───┘└───┘      ░                 ░      └───┘└───┘ ░      »\n",
              "measure: 3/════════════════════════════════════════════════════════════════»\n",
              "                                                                           »\n",
              "«           ┌───┐          ┌───┐┌───┐┌───┐          ┌───┐ ░                 ░ »\n",
              "«indices_0: ┤ X ├───────■──┤ X ├┤ H ├┤ X ├───────■──┤ X ├─░────────■────────░─»\n",
              "«           ├───┤       │  ├───┤├───┤└───┘       │  └───┘ ░ ┌───┐  │  ┌───┐ ░ »\n",
              "«indices_1: ┤ X ├───────■──┤ X ├┤ H ├────────────■────────░─┤ X ├──■──┤ X ├─░─»\n",
              "«           ├───┤┌───┐┌─┴─┐├───┤├───┤┌───┐┌───┐  │  ┌───┐ ░ ├───┤  │  ├───┤ ░ »\n",
              "«indices_2: ┤ X ├┤ H ├┤ X ├┤ H ├┤ X ├┤ H ├┤ X ├──■──┤ X ├─░─┤ X ├──■──┤ X ├─░─»\n",
              "«           └───┘└───┘└───┘└───┘└───┘└───┘└───┘┌─┴─┐└───┘ ░ └───┘  │  └───┘ ░ »\n",
              "« checks_0: ───────────────────────────────────┤ X ├──────░────────┼────────░─»\n",
              "«                                              └───┘      ░      ┌─┴─┐      ░ »\n",
              "« checks_1: ──────────────────────────────────────────────░──────┤ X ├──────░─»\n",
              "«                                                         ░      └───┘      ░ »\n",
              "«   func_0: ──────────────────────────────────────────────░─────────────────░─»\n",
              "«                                                         ░                 ░ »\n",
              "«measure: 3/══════════════════════════════════════════════════════════════════»\n",
              "«                                                                             »\n",
              "«                           ░ ┌───┐┌───┐          ┌───┐┌───┐┌───┐          »\n",
              "«indices_0: ────────────────░─┤ H ├┤ X ├───────■──┤ X ├┤ H ├┤ X ├───────■──»\n",
              "«                           ░ ├───┤├───┤       │  ├───┤├───┤└───┘       │  »\n",
              "«indices_1: ────────────────░─┤ H ├┤ X ├───────■──┤ X ├┤ H ├────────────■──»\n",
              "«                           ░ ├───┤├───┤┌───┐┌─┴─┐├───┤├───┤┌───┐┌───┐  │  »\n",
              "«indices_2: ────────────────░─┤ H ├┤ X ├┤ H ├┤ X ├┤ H ├┤ X ├┤ H ├┤ X ├──■──»\n",
              "«           ┌───┐     ┌───┐ ░ └───┘└───┘└───┘└───┘└───┘└───┘└───┘└───┘┌─┴─┐»\n",
              "« checks_0: ┤ X ├──■──┤ X ├─░─────────────────────────────────────────┤ X ├»\n",
              "«           ├───┤  │  ├───┤ ░                                         └───┘»\n",
              "« checks_1: ┤ X ├──■──┤ X ├─░──────────────────────────────────────────────»\n",
              "«           └───┘┌─┴─┐├───┤ ░                                              »\n",
              "«   func_0: ─────┤ X ├┤ X ├─░──────────────────────────────────────────────»\n",
              "«                └───┘└───┘ ░                                              »\n",
              "«measure: 3/═══════════════════════════════════════════════════════════════»\n",
              "«                                                                          »\n",
              "«           ┌───┐ ░                 ░                 ░ ┌───┐┌───┐          »\n",
              "«indices_0: ┤ X ├─░────────■────────░─────────────────░─┤ H ├┤ X ├───────■──»\n",
              "«           └───┘ ░ ┌───┐  │  ┌───┐ ░                 ░ ├───┤├───┤       │  »\n",
              "«indices_1: ──────░─┤ X ├──■──┤ X ├─░─────────────────░─┤ H ├┤ X ├───────■──»\n",
              "«           ┌───┐ ░ ├───┤  │  ├───┤ ░                 ░ ├───┤├───┤┌───┐┌─┴─┐»\n",
              "«indices_2: ┤ X ├─░─┤ X ├──■──┤ X ├─░─────────────────░─┤ H ├┤ X ├┤ H ├┤ X ├»\n",
              "«           └───┘ ░ └───┘  │  └───┘ ░ ┌───┐     ┌───┐ ░ └───┘└───┘└───┘└───┘»\n",
              "« checks_0: ──────░────────┼────────░─┤ X ├──■──┤ X ├─░─────────────────────»\n",
              "«                 ░      ┌─┴─┐      ░ ├───┤  │  ├───┤ ░                     »\n",
              "« checks_1: ──────░──────┤ X ├──────░─┤ X ├──■──┤ X ├─░─────────────────────»\n",
              "«                 ░      └───┘      ░ └───┘┌─┴─┐├───┤ ░                     »\n",
              "«   func_0: ──────░─────────────────░──────┤ X ├┤ X ├─░─────────────────────»\n",
              "«                 ░                 ░      └───┘└───┘ ░                     »\n",
              "«measure: 3/════════════════════════════════════════════════════════════════»\n",
              "«                                                                           »\n",
              "«           ┌───┐┌───┐┌───┐          ┌───┐ ░                 ░                »\n",
              "«indices_0: ┤ X ├┤ H ├┤ X ├───────■──┤ X ├─░────────■────────░────────────────»\n",
              "«           ├───┤├───┤└───┘       │  └───┘ ░ ┌───┐  │  ┌───┐ ░                »\n",
              "«indices_1: ┤ X ├┤ H ├────────────■────────░─┤ X ├──■──┤ X ├─░────────────────»\n",
              "«           ├───┤├───┤┌───┐┌───┐  │  ┌───┐ ░ ├───┤  │  ├───┤ ░                »\n",
              "«indices_2: ┤ H ├┤ X ├┤ H ├┤ X ├──■──┤ X ├─░─┤ X ├──■──┤ X ├─░────────────────»\n",
              "«           └───┘└───┘└───┘└───┘┌─┴─┐└───┘ ░ └───┘  │  └───┘ ░ ┌───┐     ┌───┐»\n",
              "« checks_0: ────────────────────┤ X ├──────░────────┼────────░─┤ X ├──■──┤ X ├»\n",
              "«                               └───┘      ░      ┌─┴─┐      ░ ├───┤  │  ├───┤»\n",
              "« checks_1: ───────────────────────────────░──────┤ X ├──────░─┤ X ├──■──┤ X ├»\n",
              "«                                          ░      └───┘      ░ └───┘┌─┴─┐├───┤»\n",
              "«   func_0: ───────────────────────────────░─────────────────░──────┤ X ├┤ X ├»\n",
              "«                                          ░                 ░      └───┘└───┘»\n",
              "«measure: 3/══════════════════════════════════════════════════════════════════»\n",
              "«                                                                             »\n",
              "«            ░ ┌───┐┌───┐          ┌───┐┌───┐┌───┐          ┌───┐ ░           »\n",
              "«indices_0: ─░─┤ H ├┤ X ├───────■──┤ X ├┤ H ├┤ X ├───────■──┤ X ├─░────────■──»\n",
              "«            ░ ├───┤├───┤       │  ├───┤├───┤└───┘       │  └───┘ ░ ┌───┐  │  »\n",
              "«indices_1: ─░─┤ H ├┤ X ├───────■──┤ X ├┤ H ├────────────■────────░─┤ X ├──■──»\n",
              "«            ░ ├───┤├───┤┌───┐┌─┴─┐├───┤├───┤┌───┐┌───┐  │  ┌───┐ ░ ├───┤  │  »\n",
              "«indices_2: ─░─┤ H ├┤ X ├┤ H ├┤ X ├┤ H ├┤ X ├┤ H ├┤ X ├──■──┤ X ├─░─┤ X ├──■──»\n",
              "«            ░ └───┘└───┘└───┘└───┘└───┘└───┘└───┘└───┘┌─┴─┐└───┘ ░ └───┘  │  »\n",
              "« checks_0: ─░─────────────────────────────────────────┤ X ├──────░────────┼──»\n",
              "«            ░                                         └───┘      ░      ┌─┴─┐»\n",
              "« checks_1: ─░────────────────────────────────────────────────────░──────┤ X ├»\n",
              "«            ░                                                    ░      └───┘»\n",
              "«   func_0: ─░────────────────────────────────────────────────────░───────────»\n",
              "«            ░                                                    ░           »\n",
              "«measure: 3/══════════════════════════════════════════════════════════════════»\n",
              "«                                                                             »\n",
              "«                 ░                 ░ ┌───┐┌───┐          ┌───┐┌───┐     ┌─┐   »\n",
              "«indices_0: ──────░─────────────────░─┤ H ├┤ X ├───────■──┤ X ├┤ H ├─────┤M├───»\n",
              "«           ┌───┐ ░                 ░ ├───┤├───┤       │  ├───┤├───┤     └╥┘┌─┐»\n",
              "«indices_1: ┤ X ├─░─────────────────░─┤ H ├┤ X ├───────■──┤ X ├┤ H ├──────╫─┤M├»\n",
              "«           ├───┤ ░                 ░ ├───┤├───┤┌───┐┌─┴─┐├───┤├───┤┌───┐ ║ └╥┘»\n",
              "«indices_2: ┤ X ├─░─────────────────░─┤ H ├┤ X ├┤ H ├┤ X ├┤ H ├┤ X ├┤ H ├─╫──╫─»\n",
              "«           └───┘ ░ ┌───┐     ┌───┐ ░ └───┘└───┘└───┘└───┘└───┘└───┘└───┘ ║  ║ »\n",
              "« checks_0: ──────░─┤ X ├──■──┤ X ├─░─────────────────────────────────────╫──╫─»\n",
              "«                 ░ ├───┤  │  ├───┤ ░                                     ║  ║ »\n",
              "« checks_1: ──────░─┤ X ├──■──┤ X ├─░─────────────────────────────────────╫──╫─»\n",
              "«                 ░ └───┘┌─┴─┐├───┤ ░ ┌───┐                               ║  ║ »\n",
              "«   func_0: ──────░──────┤ X ├┤ X ├─░─┤ X ├───────────────────────────────╫──╫─»\n",
              "«                 ░      └───┘└───┘ ░ └───┘                               ║  ║ »\n",
              "«measure: 3/══════════════════════════════════════════════════════════════╩══╩═»\n",
              "«                                                                         0  1 »\n",
              "«              \n",
              "«indices_0: ───\n",
              "«              \n",
              "«indices_1: ───\n",
              "«           ┌─┐\n",
              "«indices_2: ┤M├\n",
              "«           └╥┘\n",
              "« checks_0: ─╫─\n",
              "«            ║ \n",
              "« checks_1: ─╫─\n",
              "«            ║ \n",
              "«   func_0: ─╫─\n",
              "«            ║ \n",
              "«measure: 3/═╩═\n",
              "«            2 </pre>"
            ],
            "text/plain": [
              "           ┌───┐┌───┐     ┌───┐ ░                 ░                 ░ ┌───┐»\n",
              "indices_0: ┤ H ├┤ X ├──■──┤ X ├─░────────■────────░─────────────────░─┤ H ├»\n",
              "           ├───┤└───┘  │  └───┘ ░ ┌───┐  │  ┌───┐ ░                 ░ ├───┤»\n",
              "indices_1: ┤ H ├───────■────────░─┤ X ├──■──┤ X ├─░─────────────────░─┤ H ├»\n",
              "           ├───┤┌───┐  │  ┌───┐ ░ ├───┤  │  ├───┤ ░                 ░ ├───┤»\n",
              "indices_2: ┤ H ├┤ X ├──■──┤ X ├─░─┤ X ├──■──┤ X ├─░─────────────────░─┤ H ├»\n",
              "           └───┘└───┘┌─┴─┐└───┘ ░ └───┘  │  └───┘ ░ ┌───┐     ┌───┐ ░ └───┘»\n",
              " checks_0: ──────────┤ X ├──────░────────┼────────░─┤ X ├──■──┤ X ├─░──────»\n",
              "                     └───┘      ░      ┌─┴─┐      ░ ├───┤  │  ├───┤ ░      »\n",
              " checks_1: ─────────────────────░──────┤ X ├──────░─┤ X ├──■──┤ X ├─░──────»\n",
              "           ┌───┐┌───┐┌───┐      ░      └───┘      ░ └───┘┌─┴─┐├───┤ ░      »\n",
              "   func_0: ┤ H ├┤ X ├┤ H ├──────░─────────────────░──────┤ X ├┤ X ├─░──────»\n",
              "           └───┘└───┘└───┘      ░                 ░      └───┘└───┘ ░      »\n",
              "measure: 3/════════════════════════════════════════════════════════════════»\n",
              "                                                                           »\n",
              "«           ┌───┐          ┌───┐┌───┐┌───┐          ┌───┐ ░                 ░ »\n",
              "«indices_0: ┤ X ├───────■──┤ X ├┤ H ├┤ X ├───────■──┤ X ├─░────────■────────░─»\n",
              "«           ├───┤       │  ├───┤├───┤└───┘       │  └───┘ ░ ┌───┐  │  ┌───┐ ░ »\n",
              "«indices_1: ┤ X ├───────■──┤ X ├┤ H ├────────────■────────░─┤ X ├──■──┤ X ├─░─»\n",
              "«           ├───┤┌───┐┌─┴─┐├───┤├───┤┌───┐┌───┐  │  ┌───┐ ░ ├───┤  │  ├───┤ ░ »\n",
              "«indices_2: ┤ X ├┤ H ├┤ X ├┤ H ├┤ X ├┤ H ├┤ X ├──■──┤ X ├─░─┤ X ├──■──┤ X ├─░─»\n",
              "«           └───┘└───┘└───┘└───┘└───┘└───┘└───┘┌─┴─┐└───┘ ░ └───┘  │  └───┘ ░ »\n",
              "« checks_0: ───────────────────────────────────┤ X ├──────░────────┼────────░─»\n",
              "«                                              └───┘      ░      ┌─┴─┐      ░ »\n",
              "« checks_1: ──────────────────────────────────────────────░──────┤ X ├──────░─»\n",
              "«                                                         ░      └───┘      ░ »\n",
              "«   func_0: ──────────────────────────────────────────────░─────────────────░─»\n",
              "«                                                         ░                 ░ »\n",
              "«measure: 3/══════════════════════════════════════════════════════════════════»\n",
              "«                                                                             »\n",
              "«                           ░ ┌───┐┌───┐          ┌───┐┌───┐┌───┐          »\n",
              "«indices_0: ────────────────░─┤ H ├┤ X ├───────■──┤ X ├┤ H ├┤ X ├───────■──»\n",
              "«                           ░ ├───┤├───┤       │  ├───┤├───┤└───┘       │  »\n",
              "«indices_1: ────────────────░─┤ H ├┤ X ├───────■──┤ X ├┤ H ├────────────■──»\n",
              "«                           ░ ├───┤├───┤┌───┐┌─┴─┐├───┤├───┤┌───┐┌───┐  │  »\n",
              "«indices_2: ────────────────░─┤ H ├┤ X ├┤ H ├┤ X ├┤ H ├┤ X ├┤ H ├┤ X ├──■──»\n",
              "«           ┌───┐     ┌───┐ ░ └───┘└───┘└───┘└───┘└───┘└───┘└───┘└───┘┌─┴─┐»\n",
              "« checks_0: ┤ X ├──■──┤ X ├─░─────────────────────────────────────────┤ X ├»\n",
              "«           ├───┤  │  ├───┤ ░                                         └───┘»\n",
              "« checks_1: ┤ X ├──■──┤ X ├─░──────────────────────────────────────────────»\n",
              "«           └───┘┌─┴─┐├───┤ ░                                              »\n",
              "«   func_0: ─────┤ X ├┤ X ├─░──────────────────────────────────────────────»\n",
              "«                └───┘└───┘ ░                                              »\n",
              "«measure: 3/═══════════════════════════════════════════════════════════════»\n",
              "«                                                                          »\n",
              "«           ┌───┐ ░                 ░                 ░ ┌───┐┌───┐          »\n",
              "«indices_0: ┤ X ├─░────────■────────░─────────────────░─┤ H ├┤ X ├───────■──»\n",
              "«           └───┘ ░ ┌───┐  │  ┌───┐ ░                 ░ ├───┤├───┤       │  »\n",
              "«indices_1: ──────░─┤ X ├──■──┤ X ├─░─────────────────░─┤ H ├┤ X ├───────■──»\n",
              "«           ┌───┐ ░ ├───┤  │  ├───┤ ░                 ░ ├───┤├───┤┌───┐┌─┴─┐»\n",
              "«indices_2: ┤ X ├─░─┤ X ├──■──┤ X ├─░─────────────────░─┤ H ├┤ X ├┤ H ├┤ X ├»\n",
              "«           └───┘ ░ └───┘  │  └───┘ ░ ┌───┐     ┌───┐ ░ └───┘└───┘└───┘└───┘»\n",
              "« checks_0: ──────░────────┼────────░─┤ X ├──■──┤ X ├─░─────────────────────»\n",
              "«                 ░      ┌─┴─┐      ░ ├───┤  │  ├───┤ ░                     »\n",
              "« checks_1: ──────░──────┤ X ├──────░─┤ X ├──■──┤ X ├─░─────────────────────»\n",
              "«                 ░      └───┘      ░ └───┘┌─┴─┐├───┤ ░                     »\n",
              "«   func_0: ──────░─────────────────░──────┤ X ├┤ X ├─░─────────────────────»\n",
              "«                 ░                 ░      └───┘└───┘ ░                     »\n",
              "«measure: 3/════════════════════════════════════════════════════════════════»\n",
              "«                                                                           »\n",
              "«           ┌───┐┌───┐┌───┐          ┌───┐ ░                 ░                »\n",
              "«indices_0: ┤ X ├┤ H ├┤ X ├───────■──┤ X ├─░────────■────────░────────────────»\n",
              "«           ├───┤├───┤└───┘       │  └───┘ ░ ┌───┐  │  ┌───┐ ░                »\n",
              "«indices_1: ┤ X ├┤ H ├────────────■────────░─┤ X ├──■──┤ X ├─░────────────────»\n",
              "«           ├───┤├───┤┌───┐┌───┐  │  ┌───┐ ░ ├───┤  │  ├───┤ ░                »\n",
              "«indices_2: ┤ H ├┤ X ├┤ H ├┤ X ├──■──┤ X ├─░─┤ X ├──■──┤ X ├─░────────────────»\n",
              "«           └───┘└───┘└───┘└───┘┌─┴─┐└───┘ ░ └───┘  │  └───┘ ░ ┌───┐     ┌───┐»\n",
              "« checks_0: ────────────────────┤ X ├──────░────────┼────────░─┤ X ├──■──┤ X ├»\n",
              "«                               └───┘      ░      ┌─┴─┐      ░ ├───┤  │  ├───┤»\n",
              "« checks_1: ───────────────────────────────░──────┤ X ├──────░─┤ X ├──■──┤ X ├»\n",
              "«                                          ░      └───┘      ░ └───┘┌─┴─┐├───┤»\n",
              "«   func_0: ───────────────────────────────░─────────────────░──────┤ X ├┤ X ├»\n",
              "«                                          ░                 ░      └───┘└───┘»\n",
              "«measure: 3/══════════════════════════════════════════════════════════════════»\n",
              "«                                                                             »\n",
              "«            ░ ┌───┐┌───┐          ┌───┐┌───┐┌───┐          ┌───┐ ░           »\n",
              "«indices_0: ─░─┤ H ├┤ X ├───────■──┤ X ├┤ H ├┤ X ├───────■──┤ X ├─░────────■──»\n",
              "«            ░ ├───┤├───┤       │  ├───┤├───┤└───┘       │  └───┘ ░ ┌───┐  │  »\n",
              "«indices_1: ─░─┤ H ├┤ X ├───────■──┤ X ├┤ H ├────────────■────────░─┤ X ├──■──»\n",
              "«            ░ ├───┤├───┤┌───┐┌─┴─┐├───┤├───┤┌───┐┌───┐  │  ┌───┐ ░ ├───┤  │  »\n",
              "«indices_2: ─░─┤ H ├┤ X ├┤ H ├┤ X ├┤ H ├┤ X ├┤ H ├┤ X ├──■──┤ X ├─░─┤ X ├──■──»\n",
              "«            ░ └───┘└───┘└───┘└───┘└───┘└───┘└───┘└───┘┌─┴─┐└───┘ ░ └───┘  │  »\n",
              "« checks_0: ─░─────────────────────────────────────────┤ X ├──────░────────┼──»\n",
              "«            ░                                         └───┘      ░      ┌─┴─┐»\n",
              "« checks_1: ─░────────────────────────────────────────────────────░──────┤ X ├»\n",
              "«            ░                                                    ░      └───┘»\n",
              "«   func_0: ─░────────────────────────────────────────────────────░───────────»\n",
              "«            ░                                                    ░           »\n",
              "«measure: 3/══════════════════════════════════════════════════════════════════»\n",
              "«                                                                             »\n",
              "«                 ░                 ░ ┌───┐┌───┐          ┌───┐┌───┐     ┌─┐   »\n",
              "«indices_0: ──────░─────────────────░─┤ H ├┤ X ├───────■──┤ X ├┤ H ├─────┤M├───»\n",
              "«           ┌───┐ ░                 ░ ├───┤├───┤       │  ├───┤├───┤     └╥┘┌─┐»\n",
              "«indices_1: ┤ X ├─░─────────────────░─┤ H ├┤ X ├───────■──┤ X ├┤ H ├──────╫─┤M├»\n",
              "«           ├───┤ ░                 ░ ├───┤├───┤┌───┐┌─┴─┐├───┤├───┤┌───┐ ║ └╥┘»\n",
              "«indices_2: ┤ X ├─░─────────────────░─┤ H ├┤ X ├┤ H ├┤ X ├┤ H ├┤ X ├┤ H ├─╫──╫─»\n",
              "«           └───┘ ░ ┌───┐     ┌───┐ ░ └───┘└───┘└───┘└───┘└───┘└───┘└───┘ ║  ║ »\n",
              "« checks_0: ──────░─┤ X ├──■──┤ X ├─░─────────────────────────────────────╫──╫─»\n",
              "«                 ░ ├───┤  │  ├───┤ ░                                     ║  ║ »\n",
              "« checks_1: ──────░─┤ X ├──■──┤ X ├─░─────────────────────────────────────╫──╫─»\n",
              "«                 ░ └───┘┌─┴─┐├───┤ ░ ┌───┐                               ║  ║ »\n",
              "«   func_0: ──────░──────┤ X ├┤ X ├─░─┤ X ├───────────────────────────────╫──╫─»\n",
              "«                 ░      └───┘└───┘ ░ └───┘                               ║  ║ »\n",
              "«measure: 3/══════════════════════════════════════════════════════════════╩══╩═»\n",
              "«                                                                         0  1 »\n",
              "«              \n",
              "«indices_0: ───\n",
              "«              \n",
              "«indices_1: ───\n",
              "«           ┌─┐\n",
              "«indices_2: ┤M├\n",
              "«           └╥┘\n",
              "« checks_0: ─╫─\n",
              "«            ║ \n",
              "« checks_1: ─╫─\n",
              "«            ║ \n",
              "«   func_0: ─╫─\n",
              "«            ║ \n",
              "«measure: 3/═╩═\n",
              "«            2 "
            ]
          },
          "metadata": {},
          "execution_count": 64
        }
      ]
    },
    {
      "cell_type": "code",
      "metadata": {
        "id": "OlL4bqpdnBEJ"
      },
      "source": [
        "backend = Aer.get_backend(\"qasm_simulator\")\n",
        "job = execute(gac, backend=backend)\n",
        "result = job.result()\n",
        "counts = result.get_counts()"
      ],
      "execution_count": 65,
      "outputs": []
    },
    {
      "cell_type": "code",
      "metadata": {
        "colab": {
          "base_uri": "https://localhost:8080/",
          "height": 292
        },
        "id": "tsz5QVETtxSJ",
        "outputId": "79ebc644-2e1f-4c9c-f83b-7daeed941042"
      },
      "source": [
        "from matplotlib import pyplot as plt\n",
        "\n",
        "def plot_results(counts, val_indices, alternating):\n",
        "  # Qiskit stores registers in reverse order, so we reverse again before plotting.\n",
        "  plt.title(\"Correct indices: \" + str([x for x, y in zip(val_indices, alternating) if y]))\n",
        "  plt.bar([x[::-1] for x in dict(counts).keys()], dict(counts).values())\n",
        "  plt.xticks(rotation=45)\n",
        "  plt.show()\n",
        "\n",
        "plot_results(counts, val_indices, alternating)"
      ],
      "execution_count": 66,
      "outputs": [
        {
          "output_type": "display_data",
          "data": {
            "image/png": "[encoded data removed]",
            "text/plain": [
              "<Figure size 432x288 with 1 Axes>"
            ]
          },
          "metadata": {
            "needs_background": "light"
          }
        }
      ]
    },
    {
      "cell_type": "markdown",
      "metadata": {
        "id": "Y4_qjrpg3qIs"
      },
      "source": [
        "## Step 4: Running on Real Quantum Computers 🕹️ \n",
        "I further show that my implementation is correct by running the algorithm on real IBM quantum computers and plotting the results. "
      ]
    },
    {
      "cell_type": "code",
      "metadata": {
        "id": "kfEQZs9O8F5e"
      },
      "source": [
        "# MODIFY TEST CASES\n",
        "num_qubits = 2\n",
        "values = [1, 4, 5, 7]\n",
        "\n",
        "grover_iters = 5"
      ],
      "execution_count": 67,
      "outputs": []
    },
    {
      "cell_type": "code",
      "metadata": {
        "id": "nds2pHib82Pp"
      },
      "source": [
        "val_indices, val_bitstrings, alternating = get_ind_bitstring_and_alternating(num_qubits, values)\n",
        "gac = grover_alternating_circuit(num_qubits, val_indices, alternating, iters=grover_iters)\n",
        "# gac.draw()"
      ],
      "execution_count": 68,
      "outputs": []
    },
    {
      "cell_type": "code",
      "metadata": {
        "id": "GvC8vv-Z0i9s"
      },
      "source": [
        "from qiskit.providers.ibmq import least_busy\n",
        "\n",
        "# Note: can only run currently for num_qubits=2 (4 values in list) because only 5-qubit machines are available.\n",
        "IBMQ.save_account(\"d25fd280c37d42ee57d1047e4b5e9b0e1682978c9646e359a69781dd1602c55a9094bb7b0916bbb1399054b4380ffdeab12139cd156667877c94cc186f9873f7\")\n",
        "IBMQ.load_account()\n",
        "provider = IBMQ.get_provider()"
      ],
      "execution_count": null,
      "outputs": []
    },
    {
      "cell_type": "code",
      "metadata": {
        "colab": {
          "base_uri": "https://localhost:8080/"
        },
        "id": "Kxdgnian3nAE",
        "outputId": "83e47428-36ab-4427-b65b-b78ff8203d6c"
      },
      "source": [
        "from qiskit.tools.monitor import job_monitor\n",
        "job = execute(gac, backend=provider.get_backend('ibmq_santiago'))\n",
        "\n",
        "job_monitor(job)"
      ],
      "execution_count": 70,
      "outputs": [
        {
          "output_type": "stream",
          "name": "stdout",
          "text": [
            "Job Status: job has successfully run\n"
          ]
        }
      ]
    },
    {
      "cell_type": "code",
      "metadata": {
        "id": "tt-Yky9EAzP4"
      },
      "source": [
        "result = job.result()\n",
        "counts = result.get_counts()"
      ],
      "execution_count": 71,
      "outputs": []
    },
    {
      "cell_type": "code",
      "metadata": {
        "colab": {
          "base_uri": "https://localhost:8080/",
          "height": 287
        },
        "id": "jFL32Eid4XXi",
        "outputId": "b84873d2-51bc-45bd-dae5-94f76f26b740"
      },
      "source": [
        "plot_results(counts, val_indices, alternating)"
      ],
      "execution_count": 72,
      "outputs": [
        {
          "output_type": "display_data",
          "data": {
            "image/png": "[encoded data removed]",
            "text/plain": [
              "<Figure size 432x288 with 1 Axes>"
            ]
          },
          "metadata": {
            "needs_background": "light"
          }
        }
      ]
    },
    {
      "cell_type": "markdown",
      "metadata": {
        "id": "lIELwzkMBqlK"
      },
      "source": [
        "# Conclusion 🎉 \n",
        "Although there is much more noise in the real Quantum Computer run than in the QASM runs, it is still clear that the correct index was identified by the circuit. \n",
        "\n",
        "After testing increasingly higher values of num_qubits on the QASM simulator, it is clear that my implementation works for all power of 2. \n",
        "\n",
        "**Thank you so much to the Quantum Open Source Foundation for the challenge!** 🥳 "
      ]
    }
  ]
}